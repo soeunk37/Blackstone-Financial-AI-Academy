{
 "cells": [
  {
   "cell_type": "markdown",
   "id": "7e74a24b",
   "metadata": {},
   "source": [
    "# LSTM을 이용한 주가 예측"
   ]
  },
  {
   "cell_type": "code",
   "execution_count": 1,
   "id": "5a425b14",
   "metadata": {},
   "outputs": [],
   "source": [
    "import yfinance as yf\n",
    "import pandas as pd\n",
    "import numpy as np\n",
    "import talib"
   ]
  },
  {
   "cell_type": "code",
   "execution_count": 2,
   "id": "c55e27f0",
   "metadata": {},
   "outputs": [
    {
     "name": "stdout",
     "output_type": "stream",
     "text": [
      "[*********************100%***********************]  1 of 1 completed\n"
     ]
    }
   ],
   "source": [
    "# 데이터 다운로드\n",
    "start = '2017-12-16'\n",
    "end   = '2022-12-15'\n",
    "KOSPI  = yf.download('^KS11', start, end) #KOSPI index"
   ]
  },
  {
   "cell_type": "markdown",
   "id": "b709dd81",
   "metadata": {},
   "source": [
    "- 보통 6년치 데이터 다운로드 받음 (train : 5년, test : 1년)"
   ]
  },
  {
   "cell_type": "code",
   "execution_count": 3,
   "id": "7e8bc7e7",
   "metadata": {},
   "outputs": [
    {
     "data": {
      "text/plain": [
       "(1226, 6)"
      ]
     },
     "execution_count": 3,
     "metadata": {},
     "output_type": "execute_result"
    }
   ],
   "source": [
    "KOSPI.shape"
   ]
  },
  {
   "cell_type": "code",
   "execution_count": 4,
   "id": "85db4007",
   "metadata": {},
   "outputs": [
    {
     "data": {
      "text/html": [
       "<div>\n",
       "<style scoped>\n",
       "    .dataframe tbody tr th:only-of-type {\n",
       "        vertical-align: middle;\n",
       "    }\n",
       "\n",
       "    .dataframe tbody tr th {\n",
       "        vertical-align: top;\n",
       "    }\n",
       "\n",
       "    .dataframe thead th {\n",
       "        text-align: right;\n",
       "    }\n",
       "</style>\n",
       "<table border=\"1\" class=\"dataframe\">\n",
       "  <thead>\n",
       "    <tr style=\"text-align: right;\">\n",
       "      <th></th>\n",
       "      <th>Open</th>\n",
       "      <th>High</th>\n",
       "      <th>Low</th>\n",
       "      <th>Close</th>\n",
       "      <th>Adj Close</th>\n",
       "      <th>Volume</th>\n",
       "    </tr>\n",
       "    <tr>\n",
       "      <th>Date</th>\n",
       "      <th></th>\n",
       "      <th></th>\n",
       "      <th></th>\n",
       "      <th></th>\n",
       "      <th></th>\n",
       "      <th></th>\n",
       "    </tr>\n",
       "  </thead>\n",
       "  <tbody>\n",
       "    <tr>\n",
       "      <th>2017-12-18</th>\n",
       "      <td>2488.830078</td>\n",
       "      <td>2488.830078</td>\n",
       "      <td>2477.290039</td>\n",
       "      <td>2481.879883</td>\n",
       "      <td>2481.879883</td>\n",
       "      <td>324400</td>\n",
       "    </tr>\n",
       "    <tr>\n",
       "      <th>2017-12-19</th>\n",
       "      <td>2487.830078</td>\n",
       "      <td>2498.669922</td>\n",
       "      <td>2470.489990</td>\n",
       "      <td>2478.530029</td>\n",
       "      <td>2478.530029</td>\n",
       "      <td>308400</td>\n",
       "    </tr>\n",
       "    <tr>\n",
       "      <th>2017-12-21</th>\n",
       "      <td>2471.340088</td>\n",
       "      <td>2471.729980</td>\n",
       "      <td>2429.830078</td>\n",
       "      <td>2429.830078</td>\n",
       "      <td>2429.830078</td>\n",
       "      <td>247300</td>\n",
       "    </tr>\n",
       "    <tr>\n",
       "      <th>2017-12-22</th>\n",
       "      <td>2437.590088</td>\n",
       "      <td>2444.570068</td>\n",
       "      <td>2426.939941</td>\n",
       "      <td>2440.540039</td>\n",
       "      <td>2440.540039</td>\n",
       "      <td>230400</td>\n",
       "    </tr>\n",
       "    <tr>\n",
       "      <th>2017-12-26</th>\n",
       "      <td>2447.669922</td>\n",
       "      <td>2457.189941</td>\n",
       "      <td>2427.340088</td>\n",
       "      <td>2427.340088</td>\n",
       "      <td>2427.340088</td>\n",
       "      <td>224600</td>\n",
       "    </tr>\n",
       "  </tbody>\n",
       "</table>\n",
       "</div>"
      ],
      "text/plain": [
       "                   Open         High          Low        Close    Adj Close  \\\n",
       "Date                                                                          \n",
       "2017-12-18  2488.830078  2488.830078  2477.290039  2481.879883  2481.879883   \n",
       "2017-12-19  2487.830078  2498.669922  2470.489990  2478.530029  2478.530029   \n",
       "2017-12-21  2471.340088  2471.729980  2429.830078  2429.830078  2429.830078   \n",
       "2017-12-22  2437.590088  2444.570068  2426.939941  2440.540039  2440.540039   \n",
       "2017-12-26  2447.669922  2457.189941  2427.340088  2427.340088  2427.340088   \n",
       "\n",
       "            Volume  \n",
       "Date                \n",
       "2017-12-18  324400  \n",
       "2017-12-19  308400  \n",
       "2017-12-21  247300  \n",
       "2017-12-22  230400  \n",
       "2017-12-26  224600  "
      ]
     },
     "execution_count": 4,
     "metadata": {},
     "output_type": "execute_result"
    }
   ],
   "source": [
    "KOSPI.head()"
   ]
  },
  {
   "cell_type": "code",
   "execution_count": 5,
   "id": "e81ce21b",
   "metadata": {},
   "outputs": [],
   "source": [
    "kospi = KOSPI['Adj Close']   # 조정 종가"
   ]
  },
  {
   "cell_type": "code",
   "execution_count": 6,
   "id": "7d07451d",
   "metadata": {},
   "outputs": [],
   "source": [
    "# 수익률과 비슷한 데이터 생성\n",
    "kospi = np.log(kospi) - np.log(talib.EMA(kospi, 10)) "
   ]
  },
  {
   "cell_type": "markdown",
   "id": "2772e613",
   "metadata": {},
   "source": [
    "- 10일치 EMA를 통해 최근 지수 반영"
   ]
  },
  {
   "cell_type": "code",
   "execution_count": 44,
   "id": "8503e296",
   "metadata": {},
   "outputs": [
    {
     "data": {
      "text/plain": [
       "Date\n",
       "2017-12-18         NaN\n",
       "2017-12-19         NaN\n",
       "2017-12-21         NaN\n",
       "2017-12-22         NaN\n",
       "2017-12-26         NaN\n",
       "                ...   \n",
       "2022-12-08   -0.017040\n",
       "2022-12-09   -0.007775\n",
       "2022-12-12   -0.011882\n",
       "2022-12-13   -0.009946\n",
       "2022-12-14    0.001070\n",
       "Length: 1226, dtype: float64"
      ]
     },
     "execution_count": 44,
     "metadata": {},
     "output_type": "execute_result"
    }
   ],
   "source": [
    "kospi"
   ]
  },
  {
   "cell_type": "code",
   "execution_count": 45,
   "id": "b3829eec",
   "metadata": {},
   "outputs": [
    {
     "data": {
      "text/plain": [
       "Date\n",
       "2018-01-04    0.002836\n",
       "2018-01-05    0.012542\n",
       "2018-01-08    0.015382\n",
       "2018-01-09    0.011577\n",
       "2018-01-10    0.006045\n",
       "                ...   \n",
       "2022-12-08   -0.017040\n",
       "2022-12-09   -0.007775\n",
       "2022-12-12   -0.011882\n",
       "2022-12-13   -0.009946\n",
       "2022-12-14    0.001070\n",
       "Length: 1217, dtype: float64"
      ]
     },
     "execution_count": 45,
     "metadata": {},
     "output_type": "execute_result"
    }
   ],
   "source": [
    "yt = kospi.dropna()\n",
    "yt"
   ]
  },
  {
   "cell_type": "code",
   "execution_count": 13,
   "id": "bef08916",
   "metadata": {},
   "outputs": [],
   "source": [
    "#!pip install statsmodels\n",
    "#!pip install matplotlib"
   ]
  },
  {
   "cell_type": "code",
   "execution_count": 15,
   "id": "460a0c97",
   "metadata": {},
   "outputs": [
    {
     "data": {
      "text/plain": [
       "<bound method Figure.show of <Figure size 640x480 with 1 Axes>>"
      ]
     },
     "execution_count": 15,
     "metadata": {},
     "output_type": "execute_result"
    },
    {
     "data": {
      "image/png": "[encoded data removed]",
      "text/plain": [
       "<Figure size 640x480 with 1 Axes>"
      ]
     },
     "metadata": {},
     "output_type": "display_data"
    }
   ],
   "source": [
    "from statsmodels.graphics.tsaplots import plot_pacf\n",
    "\n",
    "plot_pacf(yt, lags=40, method='ols', title='Partial Autocorrelation').show"
   ]
  },
  {
   "cell_type": "markdown",
   "id": "a8d944e0",
   "metadata": {},
   "source": [
    "- 하늘색으로 색칠된 부분은 신뢰구간\n",
    "- p = 3 일 때 구간 밖으로 나와있음 (뒤에 몇개 구간 밖에 것들은 노이즈로 취급)\n",
    "=> p = 3으로 결정"
   ]
  },
  {
   "cell_type": "code",
   "execution_count": 16,
   "id": "112ad6af",
   "metadata": {},
   "outputs": [],
   "source": [
    "yt_1 = yt.shift(1) # 1일 전 adjusted kospi\n",
    "yt_2 = yt.shift(2) # 2일 전 adjusted kospi\n",
    "yt_3 = yt.shift(3) # 3일 전 adjusted kospi"
   ]
  },
  {
   "cell_type": "code",
   "execution_count": 17,
   "id": "0cfed3eb",
   "metadata": {},
   "outputs": [],
   "source": [
    "data = pd.concat([yt, yt_1,yt_2,yt_3], axis=1)"
   ]
  },
  {
   "cell_type": "code",
   "execution_count": 18,
   "id": "433e11fe",
   "metadata": {},
   "outputs": [],
   "source": [
    "data.columns = ['yt', 'yt_1', 'yt_2', 'yt_3']"
   ]
  },
  {
   "cell_type": "code",
   "execution_count": 19,
   "id": "2eeeebac",
   "metadata": {},
   "outputs": [],
   "source": [
    "data = data.dropna()"
   ]
  },
  {
   "cell_type": "code",
   "execution_count": 20,
   "id": "8811097b",
   "metadata": {},
   "outputs": [
    {
     "data": {
      "text/html": [
       "<div>\n",
       "<style scoped>\n",
       "    .dataframe tbody tr th:only-of-type {\n",
       "        vertical-align: middle;\n",
       "    }\n",
       "\n",
       "    .dataframe tbody tr th {\n",
       "        vertical-align: top;\n",
       "    }\n",
       "\n",
       "    .dataframe thead th {\n",
       "        text-align: right;\n",
       "    }\n",
       "</style>\n",
       "<table border=\"1\" class=\"dataframe\">\n",
       "  <thead>\n",
       "    <tr style=\"text-align: right;\">\n",
       "      <th></th>\n",
       "      <th>yt</th>\n",
       "      <th>yt_1</th>\n",
       "      <th>yt_2</th>\n",
       "      <th>yt_3</th>\n",
       "    </tr>\n",
       "    <tr>\n",
       "      <th>Date</th>\n",
       "      <th></th>\n",
       "      <th></th>\n",
       "      <th></th>\n",
       "      <th></th>\n",
       "    </tr>\n",
       "  </thead>\n",
       "  <tbody>\n",
       "    <tr>\n",
       "      <th>2018-01-09</th>\n",
       "      <td>0.011577</td>\n",
       "      <td>0.015382</td>\n",
       "      <td>0.012542</td>\n",
       "      <td>0.002836</td>\n",
       "    </tr>\n",
       "    <tr>\n",
       "      <th>2018-01-10</th>\n",
       "      <td>0.006045</td>\n",
       "      <td>0.011577</td>\n",
       "      <td>0.015382</td>\n",
       "      <td>0.012542</td>\n",
       "    </tr>\n",
       "    <tr>\n",
       "      <th>2018-01-11</th>\n",
       "      <td>0.001061</td>\n",
       "      <td>0.006045</td>\n",
       "      <td>0.011577</td>\n",
       "      <td>0.015382</td>\n",
       "    </tr>\n",
       "    <tr>\n",
       "      <th>2018-01-12</th>\n",
       "      <td>0.003661</td>\n",
       "      <td>0.001061</td>\n",
       "      <td>0.006045</td>\n",
       "      <td>0.011577</td>\n",
       "    </tr>\n",
       "    <tr>\n",
       "      <th>2018-01-15</th>\n",
       "      <td>0.005384</td>\n",
       "      <td>0.003661</td>\n",
       "      <td>0.001061</td>\n",
       "      <td>0.006045</td>\n",
       "    </tr>\n",
       "  </tbody>\n",
       "</table>\n",
       "</div>"
      ],
      "text/plain": [
       "                  yt      yt_1      yt_2      yt_3\n",
       "Date                                              \n",
       "2018-01-09  0.011577  0.015382  0.012542  0.002836\n",
       "2018-01-10  0.006045  0.011577  0.015382  0.012542\n",
       "2018-01-11  0.001061  0.006045  0.011577  0.015382\n",
       "2018-01-12  0.003661  0.001061  0.006045  0.011577\n",
       "2018-01-15  0.005384  0.003661  0.001061  0.006045"
      ]
     },
     "execution_count": 20,
     "metadata": {},
     "output_type": "execute_result"
    }
   ],
   "source": [
    "data.head()"
   ]
  },
  {
   "cell_type": "code",
   "execution_count": 21,
   "id": "f5834795",
   "metadata": {},
   "outputs": [],
   "source": [
    "y = data[['yt']]\n",
    "x = data[['yt_1', 'yt_2', 'yt_3']]"
   ]
  },
  {
   "cell_type": "code",
   "execution_count": 22,
   "id": "28c36f63",
   "metadata": {},
   "outputs": [
    {
     "data": {
      "text/html": [
       "<div>\n",
       "<style scoped>\n",
       "    .dataframe tbody tr th:only-of-type {\n",
       "        vertical-align: middle;\n",
       "    }\n",
       "\n",
       "    .dataframe tbody tr th {\n",
       "        vertical-align: top;\n",
       "    }\n",
       "\n",
       "    .dataframe thead th {\n",
       "        text-align: right;\n",
       "    }\n",
       "</style>\n",
       "<table border=\"1\" class=\"dataframe\">\n",
       "  <thead>\n",
       "    <tr style=\"text-align: right;\">\n",
       "      <th></th>\n",
       "      <th>yt</th>\n",
       "    </tr>\n",
       "    <tr>\n",
       "      <th>Date</th>\n",
       "      <th></th>\n",
       "    </tr>\n",
       "  </thead>\n",
       "  <tbody>\n",
       "    <tr>\n",
       "      <th>2018-01-09</th>\n",
       "      <td>0.011577</td>\n",
       "    </tr>\n",
       "    <tr>\n",
       "      <th>2018-01-10</th>\n",
       "      <td>0.006045</td>\n",
       "    </tr>\n",
       "    <tr>\n",
       "      <th>2018-01-11</th>\n",
       "      <td>0.001061</td>\n",
       "    </tr>\n",
       "    <tr>\n",
       "      <th>2018-01-12</th>\n",
       "      <td>0.003661</td>\n",
       "    </tr>\n",
       "    <tr>\n",
       "      <th>2018-01-15</th>\n",
       "      <td>0.005384</td>\n",
       "    </tr>\n",
       "    <tr>\n",
       "      <th>...</th>\n",
       "      <td>...</td>\n",
       "    </tr>\n",
       "    <tr>\n",
       "      <th>2022-12-08</th>\n",
       "      <td>-0.017040</td>\n",
       "    </tr>\n",
       "    <tr>\n",
       "      <th>2022-12-09</th>\n",
       "      <td>-0.007775</td>\n",
       "    </tr>\n",
       "    <tr>\n",
       "      <th>2022-12-12</th>\n",
       "      <td>-0.011882</td>\n",
       "    </tr>\n",
       "    <tr>\n",
       "      <th>2022-12-13</th>\n",
       "      <td>-0.009946</td>\n",
       "    </tr>\n",
       "    <tr>\n",
       "      <th>2022-12-14</th>\n",
       "      <td>0.001070</td>\n",
       "    </tr>\n",
       "  </tbody>\n",
       "</table>\n",
       "<p>1214 rows × 1 columns</p>\n",
       "</div>"
      ],
      "text/plain": [
       "                  yt\n",
       "Date                \n",
       "2018-01-09  0.011577\n",
       "2018-01-10  0.006045\n",
       "2018-01-11  0.001061\n",
       "2018-01-12  0.003661\n",
       "2018-01-15  0.005384\n",
       "...              ...\n",
       "2022-12-08 -0.017040\n",
       "2022-12-09 -0.007775\n",
       "2022-12-12 -0.011882\n",
       "2022-12-13 -0.009946\n",
       "2022-12-14  0.001070\n",
       "\n",
       "[1214 rows x 1 columns]"
      ]
     },
     "execution_count": 22,
     "metadata": {},
     "output_type": "execute_result"
    }
   ],
   "source": [
    "y"
   ]
  },
  {
   "cell_type": "code",
   "execution_count": 23,
   "id": "ffa2252f",
   "metadata": {},
   "outputs": [
    {
     "data": {
      "text/html": [
       "<div>\n",
       "<style scoped>\n",
       "    .dataframe tbody tr th:only-of-type {\n",
       "        vertical-align: middle;\n",
       "    }\n",
       "\n",
       "    .dataframe tbody tr th {\n",
       "        vertical-align: top;\n",
       "    }\n",
       "\n",
       "    .dataframe thead th {\n",
       "        text-align: right;\n",
       "    }\n",
       "</style>\n",
       "<table border=\"1\" class=\"dataframe\">\n",
       "  <thead>\n",
       "    <tr style=\"text-align: right;\">\n",
       "      <th></th>\n",
       "      <th>yt_1</th>\n",
       "      <th>yt_2</th>\n",
       "      <th>yt_3</th>\n",
       "    </tr>\n",
       "    <tr>\n",
       "      <th>Date</th>\n",
       "      <th></th>\n",
       "      <th></th>\n",
       "      <th></th>\n",
       "    </tr>\n",
       "  </thead>\n",
       "  <tbody>\n",
       "    <tr>\n",
       "      <th>2018-01-09</th>\n",
       "      <td>0.015382</td>\n",
       "      <td>0.012542</td>\n",
       "      <td>0.002836</td>\n",
       "    </tr>\n",
       "    <tr>\n",
       "      <th>2018-01-10</th>\n",
       "      <td>0.011577</td>\n",
       "      <td>0.015382</td>\n",
       "      <td>0.012542</td>\n",
       "    </tr>\n",
       "    <tr>\n",
       "      <th>2018-01-11</th>\n",
       "      <td>0.006045</td>\n",
       "      <td>0.011577</td>\n",
       "      <td>0.015382</td>\n",
       "    </tr>\n",
       "    <tr>\n",
       "      <th>2018-01-12</th>\n",
       "      <td>0.001061</td>\n",
       "      <td>0.006045</td>\n",
       "      <td>0.011577</td>\n",
       "    </tr>\n",
       "    <tr>\n",
       "      <th>2018-01-15</th>\n",
       "      <td>0.003661</td>\n",
       "      <td>0.001061</td>\n",
       "      <td>0.006045</td>\n",
       "    </tr>\n",
       "    <tr>\n",
       "      <th>...</th>\n",
       "      <td>...</td>\n",
       "      <td>...</td>\n",
       "      <td>...</td>\n",
       "    </tr>\n",
       "    <tr>\n",
       "      <th>2022-12-08</th>\n",
       "      <td>-0.015853</td>\n",
       "      <td>-0.015008</td>\n",
       "      <td>-0.007441</td>\n",
       "    </tr>\n",
       "    <tr>\n",
       "      <th>2022-12-09</th>\n",
       "      <td>-0.017040</td>\n",
       "      <td>-0.015853</td>\n",
       "      <td>-0.015008</td>\n",
       "    </tr>\n",
       "    <tr>\n",
       "      <th>2022-12-12</th>\n",
       "      <td>-0.007775</td>\n",
       "      <td>-0.017040</td>\n",
       "      <td>-0.015853</td>\n",
       "    </tr>\n",
       "    <tr>\n",
       "      <th>2022-12-13</th>\n",
       "      <td>-0.011882</td>\n",
       "      <td>-0.007775</td>\n",
       "      <td>-0.017040</td>\n",
       "    </tr>\n",
       "    <tr>\n",
       "      <th>2022-12-14</th>\n",
       "      <td>-0.009946</td>\n",
       "      <td>-0.011882</td>\n",
       "      <td>-0.007775</td>\n",
       "    </tr>\n",
       "  </tbody>\n",
       "</table>\n",
       "<p>1214 rows × 3 columns</p>\n",
       "</div>"
      ],
      "text/plain": [
       "                yt_1      yt_2      yt_3\n",
       "Date                                    \n",
       "2018-01-09  0.015382  0.012542  0.002836\n",
       "2018-01-10  0.011577  0.015382  0.012542\n",
       "2018-01-11  0.006045  0.011577  0.015382\n",
       "2018-01-12  0.001061  0.006045  0.011577\n",
       "2018-01-15  0.003661  0.001061  0.006045\n",
       "...              ...       ...       ...\n",
       "2022-12-08 -0.015853 -0.015008 -0.007441\n",
       "2022-12-09 -0.017040 -0.015853 -0.015008\n",
       "2022-12-12 -0.007775 -0.017040 -0.015853\n",
       "2022-12-13 -0.011882 -0.007775 -0.017040\n",
       "2022-12-14 -0.009946 -0.011882 -0.007775\n",
       "\n",
       "[1214 rows x 3 columns]"
      ]
     },
     "execution_count": 23,
     "metadata": {},
     "output_type": "execute_result"
    }
   ],
   "source": [
    "x"
   ]
  },
  {
   "cell_type": "code",
   "execution_count": 28,
   "id": "655eee1b",
   "metadata": {},
   "outputs": [],
   "source": [
    "#pip install sklearn\n",
    "#!pip install scikit-learn"
   ]
  },
  {
   "cell_type": "code",
   "execution_count": 30,
   "id": "6ab5a861",
   "metadata": {},
   "outputs": [],
   "source": [
    "from sklearn import preprocessing\n",
    "\n",
    "num_attrib =3\n",
    "scaler_x = preprocessing.MinMaxScaler(feature_range = (-1, 1))\n",
    "x = np.array(x).reshape((len(x), num_attrib))\n",
    "x = scaler_x.fit_transform(x)\n",
    "\n",
    "num_response = 1\n",
    "scaler_y = preprocessing.MinMaxScaler(feature_range = (-1 , 1))\n",
    "y = np.array(y).reshape((len(y), num_response))\n",
    "y = scaler_y.fit_transform(y)"
   ]
  },
  {
   "cell_type": "code",
   "execution_count": 33,
   "id": "b2108b8e",
   "metadata": {},
   "outputs": [
    {
     "data": {
      "text/plain": [
       "(1214, 3)"
      ]
     },
     "execution_count": 33,
     "metadata": {},
     "output_type": "execute_result"
    }
   ],
   "source": [
    "x.shape "
   ]
  },
  {
   "cell_type": "code",
   "execution_count": 34,
   "id": "5d61947e",
   "metadata": {},
   "outputs": [],
   "source": [
    "# train : 전체 데이터의 80%, test : 20% \n",
    "train_end = int((x.shape[0]*0.8))"
   ]
  },
  {
   "cell_type": "code",
   "execution_count": 35,
   "id": "5f71b1a7",
   "metadata": {},
   "outputs": [
    {
     "data": {
      "text/plain": [
       "971"
      ]
     },
     "execution_count": 35,
     "metadata": {},
     "output_type": "execute_result"
    }
   ],
   "source": [
    "train_end"
   ]
  },
  {
   "cell_type": "code",
   "execution_count": 36,
   "id": "224de101",
   "metadata": {},
   "outputs": [],
   "source": [
    "data_end = len(y)"
   ]
  },
  {
   "cell_type": "code",
   "execution_count": 37,
   "id": "4a3cabc2",
   "metadata": {},
   "outputs": [
    {
     "data": {
      "text/plain": [
       "1214"
      ]
     },
     "execution_count": 37,
     "metadata": {},
     "output_type": "execute_result"
    }
   ],
   "source": [
    "data_end"
   ]
  },
  {
   "cell_type": "code",
   "execution_count": 38,
   "id": "991a9266",
   "metadata": {},
   "outputs": [
    {
     "name": "stdout",
     "output_type": "stream",
     "text": [
      " Shape of x_train is  (971, 1, 3)\n",
      " Shape of x_test is  (243, 1, 3)\n"
     ]
    }
   ],
   "source": [
    "x_train = x[0:train_end, ]\n",
    "x_test  = x[train_end:data_end, ]\n",
    "y_train = y[0:train_end]\n",
    "y_test  = y[train_end:data_end]\n",
    "\n",
    "# 2차원 -> 3차원으로 reshape for LSTM\n",
    "x_train = x_train.reshape(x_train.shape[0], 1, x_train.shape [1])\n",
    "x_test  = x_test.reshape(x_test.shape[0] , 1, x_test.shape [1])\n",
    "\n",
    "print(\" Shape of x_train is \", x_train.shape)\n",
    "print(\" Shape of x_test is \", x_test.shape)"
   ]
  },
  {
   "cell_type": "code",
   "execution_count": 49,
   "id": "08a217fc",
   "metadata": {},
   "outputs": [],
   "source": [
    "#!pip install keras\n",
    "#!pip install tensorflow"
   ]
  },
  {
   "cell_type": "code",
   "execution_count": 55,
   "id": "b06466ca",
   "metadata": {},
   "outputs": [],
   "source": [
    "from keras.models import Sequential\n",
    "from keras.layers.core import Dense, Activation\n",
    "from keras.layers import LSTM\n",
    "#from keras.layers.recurrent import LSTM\n",
    "\n",
    "seed = 2016\n",
    "np.random.seed (seed)\n",
    "\n",
    "fit1 = Sequential()\n",
    "fit1.add(LSTM(units = 4, # 수정가능\n",
    "              activation = 'tanh',\n",
    "              recurrent_activation = 'hard_sigmoid',\n",
    "              input_shape =(1, 3)\n",
    "             )\n",
    "        )\n",
    "fit1.add(Dense(units = 1, activation = 'linear'))"
   ]
  },
  {
   "cell_type": "code",
   "execution_count": 56,
   "id": "5a617a16",
   "metadata": {},
   "outputs": [
    {
     "name": "stdout",
     "output_type": "stream",
     "text": [
      "Epoch 1/10\n",
      "971/971 [==============================] - 5s 3ms/step - loss: 0.0378\n",
      "Epoch 2/10\n",
      "971/971 [==============================] - 3s 3ms/step - loss: 0.0105\n",
      "Epoch 3/10\n",
      "971/971 [==============================] - 3s 3ms/step - loss: 0.0083\n",
      "Epoch 4/10\n",
      "971/971 [==============================] - 3s 3ms/step - loss: 0.0074\n",
      "Epoch 5/10\n",
      "971/971 [==============================] - 3s 3ms/step - loss: 0.0072\n",
      "Epoch 6/10\n",
      "971/971 [==============================] - 3s 3ms/step - loss: 0.0069\n",
      "Epoch 7/10\n",
      "971/971 [==============================] - 3s 3ms/step - loss: 0.0068\n",
      "Epoch 8/10\n",
      "971/971 [==============================] - 3s 3ms/step - loss: 0.0067\n",
      "Epoch 9/10\n",
      "971/971 [==============================] - 3s 3ms/step - loss: 0.0066\n",
      "Epoch 10/10\n",
      "971/971 [==============================] - 3s 3ms/step - loss: 0.0065\n",
      "Model: \"sequential_1\"\n",
      "_________________________________________________________________\n",
      " Layer (type)                Output Shape              Param #   \n",
      "=================================================================\n",
      " lstm_1 (LSTM)               (None, 4)                 128       \n",
      "                                                                 \n",
      " dense_1 (Dense)             (None, 1)                 5         \n",
      "                                                                 \n",
      "=================================================================\n",
      "Total params: 133\n",
      "Trainable params: 133\n",
      "Non-trainable params: 0\n",
      "_________________________________________________________________\n",
      "None\n"
     ]
    }
   ],
   "source": [
    "fit1.compile (loss =\"mean_squared_error\", optimizer =\"rmsprop\")  # Root Mean Sqaure Propagation\n",
    "\n",
    "fit1.fit(x_train, y_train, batch_size =1, epochs =10, shuffle = True)\n",
    "\n",
    "print(fit1.summary())"
   ]
  },
  {
   "cell_type": "markdown",
   "id": "83e675dd",
   "metadata": {},
   "source": [
    "- 시계열 데이터를 3단위로 잘라 input으로 넣음\n",
    "- 훈련이 3단위로 이루어짐 : 각 단위 내에서는 시계열로 이루어져있음\n",
    "- shuffle을 해도 문제 없음, 성능이 더 높아짐"
   ]
  },
  {
   "cell_type": "code",
   "execution_count": 57,
   "id": "bf11d9a8",
   "metadata": {},
   "outputs": [
    {
     "name": "stdout",
     "output_type": "stream",
     "text": [
      "971/971 [==============================] - 3s 2ms/step - loss: 0.0064\n",
      "243/243 [==============================] - 1s 2ms/step - loss: 0.0063\n",
      "in train MSE =  0.0064\n",
      "in test MSE =  0.0063\n"
     ]
    }
   ],
   "source": [
    "score_train = fit1.evaluate(x_train, y_train, batch_size =1)\n",
    "score_test  = fit1.evaluate(x_test, y_test , batch_size =1)\n",
    "\n",
    "print (\"in train MSE = \", round(score_train, 4))\n",
    "print (\"in test MSE = \", round(score_test, 4))"
   ]
  },
  {
   "cell_type": "code",
   "execution_count": 58,
   "id": "c31112f1",
   "metadata": {},
   "outputs": [
    {
     "name": "stdout",
     "output_type": "stream",
     "text": [
      "8/8 [==============================] - 1s 3ms/step\n"
     ]
    },
    {
     "data": {
      "text/plain": [
       "<matplotlib.legend.Legend at 0x22366036af0>"
      ]
     },
     "execution_count": 58,
     "metadata": {},
     "output_type": "execute_result"
    },
    {
     "data": {
      "image/png": "[encoded data removed]",
      "text/plain": [
       "<Figure size 640x480 with 1 Axes>"
      ]
     },
     "metadata": {},
     "output_type": "display_data"
    }
   ],
   "source": [
    "pred=fit1.predict(x_test)\n",
    "pred1=scaler_y.inverse_transform(np.array(pred).reshape((len(pred),1)))\n",
    "y_test1=scaler_y.inverse_transform(np.array(y_test).reshape((len(y_test),1)))\n",
    "\n",
    "%matplotlib inline\n",
    "import matplotlib.pyplot as plt\n",
    "\n",
    "plt.plot(y_test1, marker = '^', label = \"Original series\")\n",
    "plt.plot(pred1, marker = 'o', label = \"Prediction\")\n",
    "plt.legend()"
   ]
  },
  {
   "cell_type": "markdown",
   "id": "d28f676e",
   "metadata": {},
   "source": [
    "- 두 그래프가 거의 유사 : 예측 성공"
   ]
  }
 ],
 "metadata": {
  "kernelspec": {
   "display_name": "Python 3 (ipykernel)",
   "language": "python",
   "name": "python3"
  },
  "language_info": {
   "codemirror_mode": {
    "name": "ipython",
    "version": 3
   },
   "file_extension": ".py",
   "mimetype": "text/x-python",
   "name": "python",
   "nbconvert_exporter": "python",
   "pygments_lexer": "ipython3",
   "version": "3.8.15"
  },
  "toc": {
   "base_numbering": 1,
   "nav_menu": {},
   "number_sections": true,
   "sideBar": true,
   "skip_h1_title": false,
   "title_cell": "Table of Contents",
   "title_sidebar": "Contents",
   "toc_cell": false,
   "toc_position": {},
   "toc_section_display": true,
   "toc_window_display": false
  }
 },
 "nbformat": 4,
 "nbformat_minor": 5
}
